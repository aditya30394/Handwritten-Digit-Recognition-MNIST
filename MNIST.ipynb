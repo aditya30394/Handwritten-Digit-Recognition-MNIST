{
 "cells": [
  {
   "cell_type": "code",
   "execution_count": 1,
   "metadata": {
    "collapsed": true
   },
   "outputs": [],
   "source": [
    "# Import all the required libraries\n",
    "import torch\n",
    "import torch.nn as nn\n",
    "import torch.optim as optim\n",
    "from torchvision import datasets, transforms\n",
    "from torch.autograd import Variable"
   ]
  },
  {
   "cell_type": "code",
   "execution_count": 2,
   "metadata": {},
   "outputs": [],
   "source": [
    "# Loading the MNIST dataset\n",
    "train_dataset = datasets.MNIST(root='./', train = True, \n",
    "                               transform=transforms.ToTensor(),\n",
    "                               download = True)\n",
    "test_dataset = datasets.MNIST(root='./', train = False, \n",
    "                               transform=transforms.ToTensor(),\n",
    "                               download = True)"
   ]
  },
  {
   "cell_type": "code",
   "execution_count": 3,
   "metadata": {},
   "outputs": [],
   "source": [
    "#Setting the batch Size\n",
    "batch_size = 128\n",
    "\n",
    "# Initializing the data loader\n",
    "\n",
    "train_data_loader = torch.utils.data.DataLoader(dataset=train_dataset,\n",
    "                                           batch_size=batch_size,\n",
    "                                           shuffle=True)\n",
    "\n",
    "test_data_loader = torch.utils.data.DataLoader(dataset=test_dataset,\n",
    "                                           batch_size=batch_size,\n",
    "                                           shuffle=False)"
   ]
  },
  {
   "cell_type": "code",
   "execution_count": 4,
   "metadata": {
    "collapsed": true
   },
   "outputs": [],
   "source": [
    "model = nn.Sequential(\n",
    "          nn.Linear(28*28, 520),\n",
    "          nn.ReLU(),\n",
    "          nn.Linear(520, 320),\n",
    "          nn.ReLU(),\n",
    "          nn.Linear(320, 240),\n",
    "          nn.ReLU(),\n",
    "          nn.Linear(240, 120),\n",
    "          nn.ReLU(),\n",
    "          nn.Linear(120, 10),\n",
    "        )"
   ]
  },
  {
   "cell_type": "code",
   "execution_count": 5,
   "metadata": {
    "collapsed": true
   },
   "outputs": [],
   "source": [
    "# Defining the loss function\n",
    "loss_fn = nn.CrossEntropyLoss()"
   ]
  },
  {
   "cell_type": "code",
   "execution_count": 6,
   "metadata": {
    "collapsed": true
   },
   "outputs": [],
   "source": [
    "# Defining the optimization algorithm\n",
    "\n",
    "optimizer = optim.RMSprop(model.parameters(), lr=1e-4)\n",
    "correct = 0\n",
    "\n",
    "from __future__ import print_function"
   ]
  },
  {
   "cell_type": "code",
   "execution_count": 7,
   "metadata": {},
   "outputs": [
    {
     "name": "stdout",
     "output_type": "stream",
     "text": [
      "Train Epoch: 0 \tLoss: 0.499040\tAccuracy: 50373/60000 (83.95%)\n",
      "Train Epoch: 1 \tLoss: 0.261324\tAccuracy: 54704/60000 (91.17%)\n",
      "Train Epoch: 2 \tLoss: 0.232330\tAccuracy: 55960/60000 (93.27%)\n",
      "Train Epoch: 3 \tLoss: 0.141290\tAccuracy: 56735/60000 (94.56%)\n",
      "Train Epoch: 4 \tLoss: 0.051175\tAccuracy: 57366/60000 (95.61%)\n",
      "Train Epoch: 5 \tLoss: 0.065793\tAccuracy: 57768/60000 (96.28%)\n",
      "Train Epoch: 6 \tLoss: 0.100536\tAccuracy: 58031/60000 (96.72%)\n",
      "Train Epoch: 7 \tLoss: 0.132401\tAccuracy: 58285/60000 (97.14%)\n",
      "Train Epoch: 8 \tLoss: 0.047600\tAccuracy: 58541/60000 (97.57%)\n",
      "Train Epoch: 9 \tLoss: 0.083770\tAccuracy: 58730/60000 (97.88%)\n"
     ]
    }
   ],
   "source": [
    "# Start training the network now\n",
    "model.train()\n",
    "\n",
    "for epoch in range(0, 10):\n",
    "    correct = 0\n",
    "    for batch_idx, (data, target) in enumerate(train_data_loader):\n",
    "        data, target = Variable(data), Variable(target)\n",
    "        optimizer.zero_grad()\n",
    "        output = model(data.view(-1, 784))\n",
    "        loss = loss_fn(output, target)\n",
    "        pred = output.data.max(1, keepdim=True)[1]\n",
    "        correct += pred.eq(target.data.view_as(pred)).cpu().sum()\n",
    "        loss.backward()\n",
    "        optimizer.step()\n",
    "    print('Train Epoch: {} \\tLoss: {:.6f}\\tAccuracy: {}/{} ({:.2f}%)'.format(\n",
    "                epoch, loss.item(), correct, len(train_data_loader.dataset),\n",
    "                100. * float(correct) / len(train_data_loader.dataset)))\n",
    "           \n"
   ]
  },
  {
   "cell_type": "code",
   "execution_count": 8,
   "metadata": {},
   "outputs": [],
   "source": [
    "model.eval()\n",
    "test_loss = 0\n",
    "correct = 0\n",
    "with torch.no_grad():\n",
    "    for data, target in test_data_loader:\n",
    "        data, target = Variable(data), Variable(target)\n",
    "        output = model(data.view(-1, 784))\n",
    "        # sum up batch loss\n",
    "        test_loss += loss_fn(output, target).item()\n",
    "        # get the index of the max\n",
    "        pred = output.data.max(1, keepdim=True)[1]\n",
    "        correct += pred.eq(target.data.view_as(pred)).cpu().sum()    \n"
   ]
  },
  {
   "cell_type": "code",
   "execution_count": 9,
   "metadata": {},
   "outputs": [
    {
     "name": "stdout",
     "output_type": "stream",
     "text": [
      "\n",
      "Test set: Average loss: 0.0007, Accuracy: 9709/10000 (97.09%)\n",
      "\n"
     ]
    }
   ],
   "source": [
    "test_loss /= len(test_data_loader.dataset)\n",
    "print('\\nTest set: Average loss: {:.4f}, Accuracy: {}/{} ({:.2f}%)\\n'.format(\n",
    "    test_loss, correct, len(test_data_loader.dataset),\n",
    "    100. * float(correct) / len(test_data_loader.dataset)))"
   ]
  },
  {
   "cell_type": "code",
   "execution_count": null,
   "metadata": {
    "collapsed": true
   },
   "outputs": [],
   "source": []
  },
  {
   "cell_type": "code",
   "execution_count": null,
   "metadata": {},
   "outputs": [],
   "source": [
    "\n"
   ]
  },
  {
   "cell_type": "code",
   "execution_count": null,
   "metadata": {
    "collapsed": true
   },
   "outputs": [],
   "source": []
  }
 ],
 "metadata": {
  "kernelspec": {
   "display_name": "Python 3",
   "language": "python",
   "name": "python3"
  },
  "language_info": {
   "codemirror_mode": {
    "name": "ipython",
    "version": 3
   },
   "file_extension": ".py",
   "mimetype": "text/x-python",
   "name": "python",
   "nbconvert_exporter": "python",
   "pygments_lexer": "ipython3",
   "version": "3.6.1"
  }
 },
 "nbformat": 4,
 "nbformat_minor": 2
}
