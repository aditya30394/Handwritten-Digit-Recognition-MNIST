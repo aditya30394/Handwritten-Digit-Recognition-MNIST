{
 "cells": [
  {
   "cell_type": "code",
   "execution_count": 1,
   "metadata": {
    "collapsed": true
   },
   "outputs": [],
   "source": [
    "# Import all the required libraries\n",
    "import torch\n",
    "import torch.nn as nn\n",
    "import torch.optim as optim\n",
    "from torchvision import datasets, transforms\n",
    "from torch.autograd import Variable"
   ]
  },
  {
   "cell_type": "code",
   "execution_count": 2,
   "metadata": {},
   "outputs": [
    {
     "name": "stdout",
     "output_type": "stream",
     "text": [
      "Train dataset size: 60000\n",
      "\n",
      "Test dataset size: 10000\n",
      "\n"
     ]
    }
   ],
   "source": [
    "# Loading the MNIST dataset in PyTorch\n",
    "train_dataset = datasets.MNIST(root='./', train = True, \n",
    "                               transform=transforms.ToTensor(),\n",
    "                               download = True)\n",
    "test_dataset = datasets.MNIST(root='./', train = False, \n",
    "                               transform=transforms.ToTensor(),\n",
    "                               download = True)\n",
    "\n",
    "# Print the sizes of set\n",
    "print('Train dataset size: {}\\n'.format(len(train_dataset)))\n",
    "print('Test dataset size: {}\\n'.format(len(test_dataset)))"
   ]
  },
  {
   "cell_type": "code",
   "execution_count": 3,
   "metadata": {
    "collapsed": true
   },
   "outputs": [],
   "source": [
    "#Setting the batch Size\n",
    "batch_size = 128\n",
    "\n",
    "# Initializing the data loader\n",
    "\n",
    "train_data_loader = torch.utils.data.DataLoader(dataset=train_dataset,\n",
    "                                           batch_size=batch_size,\n",
    "                                           shuffle=True)\n",
    "\n",
    "test_data_loader = torch.utils.data.DataLoader(dataset=test_dataset,\n",
    "                                           batch_size=batch_size,\n",
    "                                           shuffle=False)"
   ]
  },
  {
   "cell_type": "code",
   "execution_count": 4,
   "metadata": {
    "collapsed": true
   },
   "outputs": [],
   "source": [
    "# Defining the structure of neetwork\n",
    "model = nn.Sequential(\n",
    "          nn.Linear(28*28, 256),\n",
    "          nn.ReLU(),\n",
    "          nn.Linear(256, 256),\n",
    "          nn.ReLU(),\n",
    "          nn.Linear(256, 512),\n",
    "          nn.ReLU(),\n",
    "          nn.Linear(512, 10),\n",
    "        )"
   ]
  },
  {
   "cell_type": "code",
   "execution_count": 5,
   "metadata": {
    "collapsed": true
   },
   "outputs": [],
   "source": [
    "# Defining the loss function, it also adds the softmax at the output layer - https://discuss.pytorch.org/t/why-does-crossentropyloss-include-the-softmax-function/4420\n",
    "loss_fn = nn.CrossEntropyLoss()"
   ]
  },
  {
   "cell_type": "code",
   "execution_count": 6,
   "metadata": {
    "collapsed": true
   },
   "outputs": [],
   "source": [
    "# Defining the optimization algorithm\n",
    "\n",
    "optimizer = optim.RMSprop(model.parameters(), lr=1e-4)\n",
    "# variable to track accuracy\n",
    "correct = 0\n"
   ]
  },
  {
   "cell_type": "code",
   "execution_count": 7,
   "metadata": {},
   "outputs": [
    {
     "name": "stdout",
     "output_type": "stream",
     "text": [
      "Train Epoch: 0 \tLoss: 0.413797\tAccuracy: 51804/60000 (86.34%)\n",
      "Train Epoch: 1 \tLoss: 0.224540\tAccuracy: 55131/60000 (91.89%)\n",
      "Train Epoch: 2 \tLoss: 0.487874\tAccuracy: 56058/60000 (93.43%)\n",
      "Train Epoch: 3 \tLoss: 0.099301\tAccuracy: 56761/60000 (94.60%)\n",
      "Train Epoch: 4 \tLoss: 0.067272\tAccuracy: 57246/60000 (95.41%)\n",
      "Train Epoch: 5 \tLoss: 0.191264\tAccuracy: 57624/60000 (96.04%)\n",
      "Train Epoch: 6 \tLoss: 0.143393\tAccuracy: 57959/60000 (96.60%)\n",
      "Train Epoch: 7 \tLoss: 0.059414\tAccuracy: 58192/60000 (96.99%)\n",
      "Train Epoch: 8 \tLoss: 0.362808\tAccuracy: 58372/60000 (97.29%)\n",
      "Train Epoch: 9 \tLoss: 0.043404\tAccuracy: 58571/60000 (97.62%)\n"
     ]
    }
   ],
   "source": [
    "# Start training the network now\n",
    "model.train()\n",
    "\n",
    "for epoch in range(0, 10):\n",
    "    correct = 0\n",
    "    for batch_idx, (data, target) in enumerate(train_data_loader):\n",
    "        data, target = Variable(data), Variable(target)\n",
    "        optimizer.zero_grad()\n",
    "        output = model(data.view(-1, 784))\n",
    "        loss = loss_fn(output, target)\n",
    "        pred = output.data.max(1, keepdim=True)[1]\n",
    "        correct += pred.eq(target.data.view_as(pred)).cpu().sum()\n",
    "        loss.backward()\n",
    "        optimizer.step()\n",
    "    print('Train Epoch: {} \\tLoss: {:.6f}\\tAccuracy: {}/{} ({:.2f}%)'.format(\n",
    "                epoch, loss.item(), correct, len(train_data_loader.dataset),\n",
    "                100. * float(correct) / len(train_data_loader.dataset)))\n",
    "           \n"
   ]
  },
  {
   "cell_type": "code",
   "execution_count": 8,
   "metadata": {
    "collapsed": true
   },
   "outputs": [],
   "source": [
    "# Time to test the performance on test set using the above model\n",
    "model.eval()\n",
    "test_loss = 0\n",
    "correct = 0\n",
    "with torch.no_grad():\n",
    "    for data, target in test_data_loader:\n",
    "        data, target = Variable(data), Variable(target)\n",
    "        output = model(data.view(-1, 784))\n",
    "        # sum up batch loss\n",
    "        test_loss += loss_fn(output, target).item()\n",
    "        # get the index of the max - data loader does the one hot encoding\n",
    "        pred = output.data.max(1, keepdim=True)[1]\n",
    "        correct += pred.eq(target.data.view_as(pred)).cpu().sum()    \n"
   ]
  },
  {
   "cell_type": "code",
   "execution_count": 9,
   "metadata": {},
   "outputs": [
    {
     "name": "stdout",
     "output_type": "stream",
     "text": [
      "\n",
      "Test set Results: Average loss: 0.0007, Accuracy: 9714/10000 (97.14%)\n",
      "\n"
     ]
    }
   ],
   "source": [
    "test_loss /= len(test_data_loader.dataset)\n",
    "print('\\nTest set Results: Average loss: {:.4f}, Accuracy: {}/{} ({:.2f}%)\\n'.format(\n",
    "    test_loss, correct, len(test_data_loader.dataset),\n",
    "    100. * float(correct) / len(test_data_loader.dataset)))"
   ]
  },
  {
   "cell_type": "code",
   "execution_count": null,
   "metadata": {
    "collapsed": true
   },
   "outputs": [],
   "source": []
  },
  {
   "cell_type": "code",
   "execution_count": null,
   "metadata": {
    "collapsed": true
   },
   "outputs": [],
   "source": [
    "\n"
   ]
  },
  {
   "cell_type": "code",
   "execution_count": null,
   "metadata": {
    "collapsed": true
   },
   "outputs": [],
   "source": []
  }
 ],
 "metadata": {
  "kernelspec": {
   "display_name": "Python 3",
   "language": "python",
   "name": "python3"
  },
  "language_info": {
   "codemirror_mode": {
    "name": "ipython",
    "version": 3
   },
   "file_extension": ".py",
   "mimetype": "text/x-python",
   "name": "python",
   "nbconvert_exporter": "python",
   "pygments_lexer": "ipython3",
   "version": "3.6.1"
  }
 },
 "nbformat": 4,
 "nbformat_minor": 2
}
